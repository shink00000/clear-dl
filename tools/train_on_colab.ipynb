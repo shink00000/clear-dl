{
 "cells": [
  {
   "cell_type": "markdown",
   "metadata": {},
   "source": [
    "## 環境構築"
   ]
  },
  {
   "cell_type": "code",
   "execution_count": null,
   "metadata": {},
   "outputs": [],
   "source": [
    "import torch\n",
    "\n",
    "torch.cuda.get_device_name(0)"
   ]
  },
  {
   "cell_type": "code",
   "execution_count": null,
   "metadata": {},
   "outputs": [],
   "source": [
    "from google.colab import drive\n",
    "drive.mount('/content/drive')"
   ]
  },
  {
   "cell_type": "code",
   "execution_count": null,
   "metadata": {},
   "outputs": [],
   "source": [
    "%cd /content\n",
    "!git clone https://github.com/shink00000/clear-dl.git\n",
    "!mkdir -p /content/clear-dl/data\n",
    "%cd /content/clear-dl/data\n",
    "# !unzip -q /content/drive/MyDrive/data/voc07+12.zip\n",
    "!unzip -q /content/drive/MyDrive/data/cityscapes_ss_2048x1024.zip\n",
    "%cd .."
   ]
  },
  {
   "cell_type": "markdown",
   "metadata": {},
   "source": [
    "## 共通"
   ]
  },
  {
   "cell_type": "code",
   "execution_count": null,
   "metadata": {},
   "outputs": [],
   "source": [
    "!pip install torchmetrics==0.7.0\n",
    "!pip install torchinfo==1.6.3\n",
    "!pip install -e ."
   ]
  },
  {
   "cell_type": "code",
   "execution_count": null,
   "metadata": {},
   "outputs": [],
   "source": [
    "CONFIG = 'semseg/bisenetv1_r18_citys_h512_w1024'\n",
    "\n",
    "CONFIG_PATH = f'./configs/{CONFIG}.yaml'\n",
    "OUT_DIR = f'/content/drive/MyDrive/results/{CONFIG}'\n",
    "EPOCHS = 120\n",
    "EVAL_INTERVAL = 10\n",
    "RESUME_FROM = LOAD_FROM = f'{OUT_DIR}/latest_checkpoints.pth'"
   ]
  },
  {
   "cell_type": "code",
   "execution_count": null,
   "metadata": {},
   "outputs": [],
   "source": [
    "!python ./cleardl/api.py train $CONFIG_PATH --output_dir $OUT_DIR --max_epochs $EPOCHS --eval_interval $EVAL_INTERVAL --load_from $LOAD_FROM"
   ]
  },
  {
   "cell_type": "code",
   "execution_count": null,
   "metadata": {},
   "outputs": [],
   "source": [
    "!python ./cleardl/api.py evaluate $CONFIG_PATH --output_dir $OUT_DIR --resume_from $RESUME_FROM"
   ]
  }
 ],
 "metadata": {
  "interpreter": {
   "hash": "677c28472e5403bb589cf1d68d62f5cddedb166c07d10b12eae3ca967d1c82e7"
  },
  "kernelspec": {
   "display_name": "Python 3.8.10 64-bit ('DEV': venv)",
   "name": "python3"
  },
  "language_info": {
   "codemirror_mode": {
    "name": "ipython",
    "version": 3
   },
   "file_extension": ".py",
   "mimetype": "text/x-python",
   "name": "python",
   "nbconvert_exporter": "python",
   "pygments_lexer": "ipython3",
   "version": "3.8.10"
  }
 },
 "nbformat": 4,
 "nbformat_minor": 2
}
